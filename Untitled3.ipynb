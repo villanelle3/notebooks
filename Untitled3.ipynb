{
  "nbformat": 4,
  "nbformat_minor": 0,
  "metadata": {
    "colab": {
      "provenance": []
    },
    "kernelspec": {
      "name": "python3",
      "display_name": "Python 3"
    },
    "language_info": {
      "name": "python"
    }
  },
  "cells": [
    {
      "cell_type": "markdown",
      "source": [
        "Neste exercício vamos trabalhar com o arquivo csv com dados de crédito, definido abaixo.\n",
        "Execute cada uma das células de código para escrever os arquivos na sua máquina virtual."
      ],
      "metadata": {
        "id": "Uy-9I2rmhkGg"
      }
    },
    {
      "cell_type": "code",
      "execution_count": 1,
      "metadata": {
        "colab": {
          "base_uri": "https://localhost:8080/"
        },
        "id": "N_zsTb93hih7",
        "outputId": "bc4e2b06-c02c-4718-e3cc-7a611cdc5385"
      },
      "outputs": [
        {
          "output_type": "stream",
          "name": "stdout",
          "text": [
            "Writing credito.csv\n"
          ]
        }
      ],
      "source": [
        "%%writefile credito.csv\n",
        "id_vendedor,valor_emprestimos,quantidade_emprestimos,data\n",
        "104271,448.0,1,20161208\n",
        "21476,826.7,3,20161208\n",
        "87440,313.6,3,20161208\n",
        "15980,-8008.0,6,20161208\n",
        "215906,2212.0,5,20161208\n",
        "33696,2771.3,2,20161208\n",
        "33893,2240.0,3,20161208\n",
        "214946,-4151.0,18,20161208\n",
        "123974,2021.95,2,20161208\n",
        "225870,4039.0,2,20161208\n"
      ]
    },
    {
      "cell_type": "markdown",
      "source": [
        "Vamos ler o conteúdo do arquivo em uma lista onde cada elemento é um dicionário\n",
        "representando as linhas do arquivo."
      ],
      "metadata": {
        "id": "3H8caGIxh3DF"
      }
    },
    {
      "cell_type": "code",
      "source": [
        "import csv\n",
        "import math\n",
        "from functools import reduce\n",
        "emprestimos = []\n",
        "with open(file='credito.csv') as f:\n",
        "    csv_reader = csv.reader(f, delimiter=',')\n",
        "    linha = 0\n",
        "    for row in csv_reader:\n",
        "            linha += 1\n",
        "            if linha == 1:\n",
        "                continue\n",
        "            else:\n",
        "                linha_emprestimo = {}\n",
        "                linha_emprestimo['id_vendedor'] = row[0]\n",
        "                linha_emprestimo['valor_emprestimos'] = row[1]\n",
        "                linha_emprestimo['quantidade_emprestimos'] = row[2]\n",
        "                linha_emprestimo['data'] = row[3]\n",
        "                emprestimos.append(linha_emprestimo)"
      ],
      "metadata": {
        "id": "Itc2AGS3h9Ls"
      },
      "execution_count": 2,
      "outputs": []
    },
    {
      "cell_type": "code",
      "source": [
        "for emprestimo in emprestimos:\n",
        " print(emprestimo)"
      ],
      "metadata": {
        "colab": {
          "base_uri": "https://localhost:8080/"
        },
        "id": "iqvy8PBTiNG9",
        "outputId": "2a1e3995-b499-4bf1-97c7-daf41f42d6e3"
      },
      "execution_count": 3,
      "outputs": [
        {
          "output_type": "stream",
          "name": "stdout",
          "text": [
            "{'id_vendedor': '104271', 'valor_emprestimos': '448.0', 'quantidade_emprestimos': '1', 'data': '20161208'}\n",
            "{'id_vendedor': '21476', 'valor_emprestimos': '826.7', 'quantidade_emprestimos': '3', 'data': '20161208'}\n",
            "{'id_vendedor': '87440', 'valor_emprestimos': '313.6', 'quantidade_emprestimos': '3', 'data': '20161208'}\n",
            "{'id_vendedor': '15980', 'valor_emprestimos': '-8008.0', 'quantidade_emprestimos': '6', 'data': '20161208'}\n",
            "{'id_vendedor': '215906', 'valor_emprestimos': '2212.0', 'quantidade_emprestimos': '5', 'data': '20161208'}\n",
            "{'id_vendedor': '33696', 'valor_emprestimos': '2771.3', 'quantidade_emprestimos': '2', 'data': '20161208'}\n",
            "{'id_vendedor': '33893', 'valor_emprestimos': '2240.0', 'quantidade_emprestimos': '3', 'data': '20161208'}\n",
            "{'id_vendedor': '214946', 'valor_emprestimos': '-4151.0', 'quantidade_emprestimos': '18', 'data': '20161208'}\n",
            "{'id_vendedor': '123974', 'valor_emprestimos': '2021.95', 'quantidade_emprestimos': '2', 'data': '20161208'}\n",
            "{'id_vendedor': '225870', 'valor_emprestimos': '4039.0', 'quantidade_emprestimos': '2', 'data': '20161208'}\n"
          ]
        }
      ]
    },
    {
      "cell_type": "markdown",
      "source": [
        "## 1. Função map\n",
        "\n",
        "Aplique a função map na lista de ```emprestimos``` para extrair os valores da chave\n",
        "valor_emprestimos na lista ```valor_emprestimos_lista```. Faça também a conversão\n",
        "de str para float .\n"
      ],
      "metadata": {
        "id": "pKFtPvM7iT2J"
      }
    },
    {
      "cell_type": "code",
      "source": [
        "valor_emprestimos_lista = list(map(lambda indice: float(emprestimos[indice][\"valor_emprestimos\"]), list(range(0, len(emprestimos)))))\n",
        "print(valor_emprestimos_lista) # [448.0, 826.7, ..., 4039.0]"
      ],
      "metadata": {
        "colab": {
          "base_uri": "https://localhost:8080/"
        },
        "id": "XEKgVNwHiqCP",
        "outputId": "18103ecd-0c5c-4308-840f-e51dddaeaa8e"
      },
      "execution_count": 4,
      "outputs": [
        {
          "output_type": "stream",
          "name": "stdout",
          "text": [
            "[448.0, 826.7, 313.6, -8008.0, 2212.0, 2771.3, 2240.0, -4151.0, 2021.95, 4039.0]\n"
          ]
        }
      ]
    },
    {
      "cell_type": "markdown",
      "source": [
        "##2. Função filter\n",
        "Aplique a função filter na lista de valor_emprestimos_lista para filtrar apenas os valores\n",
        "maiores que zero (os valores negativas são erros na base de dados). Salve os valores na lista\n",
        "valor_emprestimos_lista_filtrada .\n"
      ],
      "metadata": {
        "id": "-7euEmeEiwJG"
      }
    },
    {
      "cell_type": "code",
      "source": [
        "valor_emprestimos_lista_filtrada = list(filter(lambda a: True if a > 0 else False, valor_emprestimos_lista))\n",
        "print(valor_emprestimos_lista_filtrada) # [448.0, 826.7, ..., 4039.0]"
      ],
      "metadata": {
        "colab": {
          "base_uri": "https://localhost:8080/"
        },
        "id": "rhJJ_8_9jJTA",
        "outputId": "90320864-5d4b-47d7-ce0e-c7449e7e0f02"
      },
      "execution_count": 5,
      "outputs": [
        {
          "output_type": "stream",
          "name": "stdout",
          "text": [
            "[448.0, 826.7, 313.6, 2212.0, 2771.3, 2240.0, 2021.95, 4039.0]\n"
          ]
        }
      ]
    },
    {
      "cell_type": "markdown",
      "source": [
        "## 3. Função reduce\n",
        "Com a nossa lista de valores de emprestimo pronta, vamos extrair algumas métricas.\n"
      ],
      "metadata": {
        "id": "-C_GE3GzjapO"
      }
    },
    {
      "cell_type": "markdown",
      "source": [
        "### 3.1. Função reduce para extrair a soma\n",
        "Aplique a função reduce para somar os elementos da lista\n",
        "valor_emprestimos_lista_filtrada na variavel soma_valor_emprestimos ."
      ],
      "metadata": {
        "id": "fEqFu6GWjd06"
      }
    },
    {
      "cell_type": "code",
      "source": [
        "soma_valor_emprestimos = reduce(lambda a, b: a+b, valor_emprestimos_lista_filtrada)\n",
        "print(soma_valor_emprestimos) # 14872.550000000001"
      ],
      "metadata": {
        "colab": {
          "base_uri": "https://localhost:8080/"
        },
        "id": "LvKkl_cmjmbm",
        "outputId": "5cfc61c5-69ff-4395-efbf-4b07a301c596"
      },
      "execution_count": 6,
      "outputs": [
        {
          "output_type": "stream",
          "name": "stdout",
          "text": [
            "14872.550000000001\n"
          ]
        }
      ]
    },
    {
      "cell_type": "markdown",
      "source": [
        "### 3.2. Função reduce para extrair a media aritimética\n",
        "Aplique a função reduce para extrair a média aritimética dos elementos\n",
        "da lista valor_emprestimos_lista_filtrada na variavel\n",
        "media_valor_emprestimos ."
      ],
      "metadata": {
        "id": "IKG-4M6Lj6N9"
      }
    },
    {
      "cell_type": "code",
      "source": [
        "media_valor_emprestimos = reduce(lambda a, b: (a+b), valor_emprestimos_lista_filtrada)/len(valor_emprestimos_lista_filtrada)\n",
        "print(media_valor_emprestimos) # 1859.0687500000001"
      ],
      "metadata": {
        "colab": {
          "base_uri": "https://localhost:8080/"
        },
        "id": "ubFMtrCAkB0l",
        "outputId": "ba5cd37b-b34c-41a6-a5c6-2528cc5aaaa9"
      },
      "execution_count": 7,
      "outputs": [
        {
          "output_type": "stream",
          "name": "stdout",
          "text": [
            "1859.0687500000001\n"
          ]
        }
      ]
    },
    {
      "cell_type": "markdown",
      "source": [
        "### 3.3. (Desafio) Função reduce para extrair o desvio padrão\n",
        "Aplique a função reduce para extrair a média aritimética (mais informações aqui) dos elementos\n",
        "da lista valor_emprestimos_lista_filtrada na variavel\n",
        "desvio_padrao_valor_emprestimos .\n"
      ],
      "metadata": {
        "id": "Vv5icHTWkH9g"
      }
    },
    {
      "cell_type": "code",
      "source": [
        "termos_superiores = lambda xi: (xi - media_valor_emprestimos)**2\n",
        "lista_termos_superiores = list(map(termos_superiores, valor_emprestimos_lista_filtrada))\n",
        "\n",
        "desvio_padrao_valor_emprestimos = math.sqrt(reduce(lambda a, b: (a+b), lista_termos_superiores)/len(valor_emprestimos_lista_filtrada))\n",
        "print(desvio_padrao_valor_emprestimos) # 1189.844496"
      ],
      "metadata": {
        "colab": {
          "base_uri": "https://localhost:8080/"
        },
        "id": "kTw1FdAqkQh2",
        "outputId": "74136130-ae27-4c30-c0a2-dae27a3fbd9f"
      },
      "execution_count": 8,
      "outputs": [
        {
          "output_type": "stream",
          "name": "stdout",
          "text": [
            "1189.8444963884722\n"
          ]
        }
      ]
    }
  ]
}